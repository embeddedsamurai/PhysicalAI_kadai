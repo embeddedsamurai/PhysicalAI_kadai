{
 "cells": [
  {
   "cell_type": "markdown",
   "metadata": {
    "id": "O-as3Xn7q92t"
   },
   "source": [
    "# LeRobotを使った模倣学習\n",
    "このノートブックでは，ロボットラーニングのためのオープンソースプロジェクトである[LeRobot](https://github.com/huggingface/lerobot/tree/main)を用いて，模倣学習を実際に回し，モデルの性能を評価します．"
   ]
  },
  {
   "cell_type": "markdown",
   "metadata": {
    "id": "rWFbxBWzITDR"
   },
   "source": [
    "## 環境構築"
   ]
  },
  {
   "cell_type": "code",
   "execution_count": 1,
   "metadata": {
    "colab": {
     "base_uri": "https://localhost:8080/"
    },
    "id": "hIRMLtROVJlC",
    "outputId": "37792aae-d839-455e-b26e-0f09c3434bfa"
   },
   "outputs": [
    {
     "name": "stdout",
     "output_type": "stream",
     "text": [
      "using /home/ninja/pai_training/.pixi/envs/default/bin/python\n",
      "LeRobot 0.1.0 CUDA True\n"
     ]
    }
   ],
   "source": [
    "import lerobot\n",
    "import torch\n",
    "import sys\n",
    "\n",
    "print(\"using\", sys.executable)\n",
    "print(\"LeRobot\", getattr(lerobot, \"__version__\", \"dev\"), \"CUDA\", torch.cuda.is_available())"
   ]
  },
  {
   "cell_type": "markdown",
   "metadata": {
    "id": "yhOalbGhqcx8"
   },
   "source": [
    "## 学習の実行\n",
    "Huggingface Hub上にある `lerobot/pusht` というデータセットをダウンロードして，拡散モデルをベースにした模倣学習アルゴリズムであるDiffusion Policyを学習します．\n",
    "以下のリンクから，web上でHugging Face Hubに上がっている様々なデータセットを可視化することができます．\n",
    "\n",
    "https://huggingface.co/spaces/lerobot/visualize_dataset\n",
    "\n",
    "また，データセットの詳細も公開されています．\n",
    "\n",
    "`lerobot/pusht`の詳細：https://huggingface.co/datasets/lerobot/pusht\n",
    "```\n",
    "{\n",
    "    \"codebase_version\": \"v2.0\",\n",
    "    \"robot_type\": \"unknown\",\n",
    "    \"total_episodes\": 206,\n",
    "    \"total_frames\": 25650,\n",
    "    \"total_tasks\": 1,\n",
    "    \"total_videos\": 206,\n",
    "    \"total_chunks\": 1,\n",
    "    \"chunks_size\": 1000,\n",
    "    \"fps\": 10,\n",
    "    ...\n",
    "}\n",
    "```"
   ]
  },
  {
   "cell_type": "code",
   "execution_count": 4,
   "metadata": {},
   "outputs": [],
   "source": [
    "!cd ~/pai_training/lerobot"
   ]
  },
  {
   "cell_type": "code",
   "execution_count": 5,
   "metadata": {},
   "outputs": [
    {
     "name": "stdout",
     "output_type": "stream",
     "text": [
      "/home/ninja/pai_training\n"
     ]
    }
   ],
   "source": [
    "!pwd"
   ]
  },
  {
   "cell_type": "code",
   "execution_count": 7,
   "metadata": {},
   "outputs": [
    {
     "name": "stdout",
     "output_type": "stream",
     "text": [
      "lerobot/lerobot/scripts/train.py\n",
      "lerobot/lerobot/configs/train.py\n"
     ]
    }
   ],
   "source": [
    "!find lerobot -name train.py\n"
   ]
  },
  {
   "cell_type": "code",
   "execution_count": 8,
   "metadata": {
    "colab": {
     "base_uri": "https://localhost:8080/"
    },
    "id": "TjP9lZyscdG7",
    "outputId": "0c861313-0101-486a-e571-6a1c109a7d18"
   },
   "outputs": [
    {
     "name": "stdout",
     "output_type": "stream",
     "text": [
      "\u001b[2KINFO 2025-07-31 10:22:14 ts/train.py:111 {'batch_size': 32,                                       \n",
      " 'dataset': {'episodes': None,\n",
      "             'image_transforms': {'enable': False,\n",
      "                                  'max_num_transforms': 3,\n",
      "                                  'random_order': False,\n",
      "                                  'tfs': {'brightness': {'kwargs': {'brightness': [0.8,\n",
      "                                                                                   1.2]},\n",
      "                                                         'type': 'ColorJitter',\n",
      "                                                         'weight': 1.0},\n",
      "                                          'contrast': {'kwargs': {'contrast': [0.8,\n",
      "                                                                               1.2]},\n",
      "                                                       'type': 'ColorJitter',\n",
      "                                                       'weight': 1.0},\n",
      "                                          'hue': {'kwargs': {'hue': [-0.05,\n",
      "                                                                     0.05]},\n",
      "                                                  'type': 'ColorJitter',\n",
      "                                                  'weight': 1.0},\n",
      "                                          'saturation': {'kwargs': {'saturation': [0.5,\n",
      "                                                                                   1.5]},\n",
      "                                                         'type': 'ColorJitter',\n",
      "                                                         'weight': 1.0},\n",
      "                                          'sharpness': {'kwargs': {'sharpness': [0.5,\n",
      "                                                                                 1.5]},\n",
      "                                                        'type': 'SharpnessJitter',\n",
      "                                                        'weight': 1.0}}},\n",
      "             'repo_id': 'lerobot/pusht',\n",
      "             'revision': None,\n",
      "             'root': None,\n",
      "             'use_imagenet_stats': True,\n",
      "             'video_backend': 'torchcodec'},\n",
      " 'env': None,\n",
      " 'eval': {'batch_size': 50, 'n_episodes': 50, 'use_async_envs': False},\n",
      " 'eval_freq': 20000,\n",
      " 'job_name': 'lerobot_pusht',\n",
      " 'log_freq': 200,\n",
      " 'num_workers': 4,\n",
      " 'optimizer': {'betas': [0.95, 0.999],\n",
      "               'eps': 1e-08,\n",
      "               'grad_clip_norm': 10.0,\n",
      "               'lr': 0.0001,\n",
      "               'type': 'adam',\n",
      "               'weight_decay': 1e-06},\n",
      " 'output_dir': 'outputs/train/lerobot_pusht',\n",
      " 'policy': {'beta_end': 0.02,\n",
      "            'beta_schedule': 'squaredcos_cap_v2',\n",
      "            'beta_start': 0.0001,\n",
      "            'clip_sample': True,\n",
      "            'clip_sample_range': 1.0,\n",
      "            'crop_is_random': True,\n",
      "            'crop_shape': [84, 84],\n",
      "            'device': 'cuda',\n",
      "            'diffusion_step_embed_dim': 128,\n",
      "            'do_mask_loss_for_padding': False,\n",
      "            'down_dims': [512, 1024, 2048],\n",
      "            'drop_n_last_frames': 7,\n",
      "            'horizon': 16,\n",
      "            'input_features': {},\n",
      "            'kernel_size': 5,\n",
      "            'n_action_steps': 8,\n",
      "            'n_groups': 8,\n",
      "            'n_obs_steps': 2,\n",
      "            'noise_scheduler_type': 'DDPM',\n",
      "            'normalization_mapping': {'ACTION': <NormalizationMode.MIN_MAX: 'MIN_MAX'>,\n",
      "                                      'STATE': <NormalizationMode.MIN_MAX: 'MIN_MAX'>,\n",
      "                                      'VISUAL': <NormalizationMode.MEAN_STD: 'MEAN_STD'>},\n",
      "            'num_inference_steps': None,\n",
      "            'num_train_timesteps': 100,\n",
      "            'optimizer_betas': [0.95, 0.999],\n",
      "            'optimizer_eps': 1e-08,\n",
      "            'optimizer_lr': 0.0001,\n",
      "            'optimizer_weight_decay': 1e-06,\n",
      "            'output_features': {},\n",
      "            'prediction_type': 'epsilon',\n",
      "            'pretrained_backbone_weights': None,\n",
      "            'scheduler_name': 'cosine',\n",
      "            'scheduler_warmup_steps': 500,\n",
      "            'spatial_softmax_num_keypoints': 32,\n",
      "            'type': 'diffusion',\n",
      "            'use_amp': False,\n",
      "            'use_film_scale_modulation': True,\n",
      "            'use_group_norm': True,\n",
      "            'use_separate_rgb_encoder_per_camera': False,\n",
      "            'vision_backbone': 'resnet18'},\n",
      " 'resume': False,\n",
      " 'save_checkpoint': True,\n",
      " 'save_freq': 20000,\n",
      " 'scheduler': {'name': 'cosine', 'num_warmup_steps': 500, 'type': 'diffuser'},\n",
      " 'seed': 1000,\n",
      " 'steps': 3000,\n",
      " 'use_policy_training_preset': True,\n",
      " 'wandb': {'disable_artifact': False,\n",
      "           'enable': False,\n",
      "           'entity': None,\n",
      "           'mode': None,\n",
      "           'notes': None,\n",
      "           'project': 'lerobot',\n",
      "           'run_id': None}}\n",
      "INFO 2025-07-31 10:22:14 ts/train.py:117 \u001b[1m\u001b[33mLogs will be saved locally.\u001b[0m\n",
      "INFO 2025-07-31 10:22:14 ts/train.py:127 Creating dataset\n",
      "Resolving data files: 100%|███████████████| 206/206 [00:00<00:00, 717630.09it/s]\n",
      "INFO 2025-07-31 10:22:15 ts/train.py:138 Creating policy\n",
      "INFO 2025-07-31 10:22:18 ts/train.py:144 Creating optimizer and scheduler\n",
      "INFO 2025-07-31 10:22:18 ts/train.py:156 \u001b[1m\u001b[33mOutput dir:\u001b[0m outputs/train/lerobot_pusht\n",
      "INFO 2025-07-31 10:22:18 ts/train.py:159 cfg.steps=3000 (3K)\n",
      "INFO 2025-07-31 10:22:18 ts/train.py:160 dataset.num_frames=25650 (26K)\n",
      "INFO 2025-07-31 10:22:18 ts/train.py:161 dataset.num_episodes=206\n",
      "INFO 2025-07-31 10:22:18 ts/train.py:162 num_learnable_params=262709026 (263M)\n",
      "INFO 2025-07-31 10:22:18 ts/train.py:163 num_total_params=262709044 (263M)\n",
      "INFO 2025-07-31 10:22:18 ts/train.py:202 Start offline training on a fixed dataset\n",
      "INFO 2025-07-31 10:22:56 ts/train.py:232 step:200 smpl:6K ep:51 epch:0.25 loss:0.380 grdn:6.727 lr:2.0e-05 updt_s:0.189 data_s:0.004\n",
      "INFO 2025-07-31 10:23:31 ts/train.py:232 step:400 smpl:13K ep:103 epch:0.50 loss:0.093 grdn:2.975 lr:6.0e-05 updt_s:0.171 data_s:0.000\n",
      "INFO 2025-07-31 10:24:06 ts/train.py:232 step:600 smpl:19K ep:154 epch:0.75 loss:0.078 grdn:2.072 lr:9.5e-05 updt_s:0.173 data_s:0.000\n",
      "INFO 2025-07-31 10:24:43 ts/train.py:232 step:800 smpl:26K ep:206 epch:1.00 loss:0.064 grdn:1.450 lr:9.8e-05 updt_s:0.181 data_s:0.004\n",
      "INFO 2025-07-31 10:25:18 ts/train.py:232 step:1K smpl:32K ep:257 epch:1.25 loss:0.063 grdn:1.408 lr:9.4e-05 updt_s:0.176 data_s:0.000\n",
      "INFO 2025-07-31 10:25:54 ts/train.py:232 step:1K smpl:38K ep:308 epch:1.50 loss:0.058 grdn:1.118 lr:8.6e-05 updt_s:0.178 data_s:0.000\n",
      "INFO 2025-07-31 10:26:29 ts/train.py:232 step:1K smpl:45K ep:360 epch:1.75 loss:0.055 grdn:1.119 lr:7.7e-05 updt_s:0.177 data_s:0.000\n",
      "INFO 2025-07-31 10:27:06 ts/train.py:232 step:2K smpl:51K ep:411 epch:2.00 loss:0.053 grdn:1.021 lr:6.5e-05 updt_s:0.178 data_s:0.003\n",
      "INFO 2025-07-31 10:27:42 ts/train.py:232 step:2K smpl:58K ep:463 epch:2.25 loss:0.052 grdn:0.882 lr:5.3e-05 updt_s:0.179 data_s:0.000\n",
      "INFO 2025-07-31 10:28:18 ts/train.py:232 step:2K smpl:64K ep:514 epch:2.50 loss:0.048 grdn:0.806 lr:4.1e-05 updt_s:0.179 data_s:0.000\n",
      "INFO 2025-07-31 10:28:54 ts/train.py:232 step:2K smpl:70K ep:565 epch:2.74 loss:0.048 grdn:0.769 lr:2.9e-05 updt_s:0.178 data_s:0.000\n",
      "INFO 2025-07-31 10:29:30 ts/train.py:232 step:2K smpl:77K ep:617 epch:2.99 loss:0.047 grdn:0.767 lr:1.8e-05 updt_s:0.179 data_s:0.003\n",
      "INFO 2025-07-31 10:30:06 ts/train.py:232 step:3K smpl:83K ep:668 epch:3.24 loss:0.045 grdn:0.689 lr:9.6e-06 updt_s:0.179 data_s:0.000\n",
      "INFO 2025-07-31 10:30:42 ts/train.py:232 step:3K smpl:90K ep:720 epch:3.49 loss:0.044 grdn:0.645 lr:3.6e-06 updt_s:0.180 data_s:0.000\n",
      "INFO 2025-07-31 10:31:18 ts/train.py:232 step:3K smpl:96K ep:771 epch:3.74 loss:0.043 grdn:0.605 lr:5.2e-07 updt_s:0.179 data_s:0.000\n",
      "INFO 2025-07-31 10:31:18 ts/train.py:241 Checkpoint policy after step 3000\n",
      "INFO 2025-07-31 10:31:22 ts/train.py:283 End of training\n"
     ]
    }
   ],
   "source": [
    "! pixi run python -m lerobot.scripts.train \\\n",
    "  --dataset.repo_id='lerobot/pusht' \\\n",
    "  --policy.type=diffusion \\\n",
    "  --steps=3000 \\\n",
    "  --batch_size=32 \\\n",
    "  --output_dir=outputs/train/lerobot_pusht \\\n",
    "  --job_name=lerobot_pusht \\\n",
    "  --policy.device=cuda \\\n",
    "  --wandb.enable=false"
   ]
  },
  {
   "cell_type": "code",
   "execution_count": 10,
   "metadata": {
    "colab": {
     "base_uri": "https://localhost:8080/"
    },
    "id": "E98tmaDWVI0j",
    "outputId": "885e8b9f-8661-4f26-d6d3-a70efc01194d"
   },
   "outputs": [
    {
     "name": "stdout",
     "output_type": "stream",
     "text": [
      "config.json  model.safetensors\ttrain_config.json\n"
     ]
    }
   ],
   "source": [
    "!ls ./outputs/train/lerobot_pusht/checkpoints/003000/pretrained_model"
   ]
  },
  {
   "cell_type": "markdown",
   "metadata": {
    "id": "2a6En4oDXazP"
   },
   "source": [
    "## モデル評価\n",
    "上で学習されたモデルを評価する．"
   ]
  },
  {
   "cell_type": "code",
   "execution_count": 12,
   "metadata": {
    "colab": {
     "base_uri": "https://localhost:8080/"
    },
    "id": "70WtrOmWqjhw",
    "outputId": "c9139ba8-edb5-426f-caa0-94264f23fbac"
   },
   "outputs": [
    {
     "name": "stdout",
     "output_type": "stream",
     "text": [
      "\u001b[2Kusage: eval.py [-h] [--config_path str] [--env str]                                               \n",
      "               [--env.type {aloha,pusht,xarm}] [--env.task str]\n",
      "               [--env.fps str] [--env.features str] [--env.features_map str]\n",
      "               [--env.episode_length str] [--env.obs_type str]\n",
      "               [--env.render_mode str] [--env.visualization_width str]\n",
      "               [--env.visualization_height str] [--eval str]\n",
      "               [--eval.n_episodes str] [--eval.batch_size str]\n",
      "               [--eval.use_async_envs str] [--policy str]\n",
      "               [--policy.type {act,diffusion,pi0,tdmpc,vqbet,pi0fast}]\n",
      "               [--policy.replace_final_stride_with_dilation str]\n",
      "               [--policy.pre_norm str] [--policy.dim_model str]\n",
      "               [--policy.n_heads str] [--policy.dim_feedforward str]\n",
      "               [--policy.feedforward_activation str]\n",
      "               [--policy.n_encoder_layers str] [--policy.n_decoder_layers str]\n",
      "               [--policy.use_vae str] [--policy.n_vae_encoder_layers str]\n",
      "               [--policy.temporal_ensemble_coeff str] [--policy.kl_weight str]\n",
      "               [--policy.optimizer_lr_backbone str]\n",
      "               [--policy.drop_n_last_frames str]\n",
      "               [--policy.use_separate_rgb_encoder_per_camera str]\n",
      "               [--policy.down_dims str] [--policy.kernel_size str]\n",
      "               [--policy.n_groups str] [--policy.diffusion_step_embed_dim str]\n",
      "               [--policy.use_film_scale_modulation str]\n",
      "               [--policy.noise_scheduler_type str]\n",
      "               [--policy.num_train_timesteps str] [--policy.beta_schedule str]\n",
      "               [--policy.beta_start str] [--policy.beta_end str]\n",
      "               [--policy.prediction_type str] [--policy.clip_sample str]\n",
      "               [--policy.clip_sample_range str]\n",
      "               [--policy.num_inference_steps str]\n",
      "               [--policy.do_mask_loss_for_padding str]\n",
      "               [--policy.scheduler_name str] [--policy.num_steps str]\n",
      "               [--policy.attention_implementation str]\n",
      "               [--policy.train_expert_only str]\n",
      "               [--policy.train_state_proj str] [--policy.n_action_repeats str]\n",
      "               [--policy.horizon str] [--policy.image_encoder_hidden_dim str]\n",
      "               [--policy.state_encoder_hidden_dim str]\n",
      "               [--policy.latent_dim str] [--policy.q_ensemble_size str]\n",
      "               [--policy.mlp_dim str] [--policy.discount str]\n",
      "               [--policy.use_mpc str] [--policy.cem_iterations str]\n",
      "               [--policy.max_std str] [--policy.min_std str]\n",
      "               [--policy.n_gaussian_samples str] [--policy.n_pi_samples str]\n",
      "               [--policy.uncertainty_regularizer_coeff str]\n",
      "               [--policy.n_elites str]\n",
      "               [--policy.elite_weighting_temperature str]\n",
      "               [--policy.gaussian_mean_momentum str]\n",
      "               [--policy.max_random_shift_ratio str]\n",
      "               [--policy.reward_coeff str] [--policy.expectile_weight str]\n",
      "               [--policy.value_coeff str] [--policy.consistency_coeff str]\n",
      "               [--policy.advantage_scaling str] [--policy.pi_coeff str]\n",
      "               [--policy.temporal_decay_coeff str]\n",
      "               [--policy.target_model_momentum str]\n",
      "               [--policy.n_action_pred_token str]\n",
      "               [--policy.action_chunk_size str] [--policy.vision_backbone str]\n",
      "               [--policy.crop_shape str] [--policy.crop_is_random str]\n",
      "               [--policy.pretrained_backbone_weights str]\n",
      "               [--policy.use_group_norm str]\n",
      "               [--policy.spatial_softmax_num_keypoints str]\n",
      "               [--policy.n_vqvae_training_steps str]\n",
      "               [--policy.vqvae_n_embed str] [--policy.vqvae_embedding_dim str]\n",
      "               [--policy.vqvae_enc_hidden_dim str]\n",
      "               [--policy.gpt_block_size str] [--policy.gpt_input_dim str]\n",
      "               [--policy.gpt_output_dim str] [--policy.gpt_n_layer str]\n",
      "               [--policy.gpt_n_head str] [--policy.gpt_hidden_dim str]\n",
      "               [--policy.dropout str] [--policy.mlp_hidden_dim str]\n",
      "               [--policy.offset_loss_weight str]\n",
      "               [--policy.primary_code_loss_weight str]\n",
      "               [--policy.secondary_code_loss_weight str]\n",
      "               [--policy.bet_softmax_temperature str]\n",
      "               [--policy.sequentially_select str]\n",
      "               [--policy.optimizer_vqvae_lr str]\n",
      "               [--policy.optimizer_vqvae_weight_decay str]\n",
      "               [--policy.n_obs_steps str] [--policy.normalization_mapping str]\n",
      "               [--policy.input_features str] [--policy.output_features str]\n",
      "               [--policy.device str] [--policy.use_amp str]\n",
      "               [--policy.chunk_size str] [--policy.n_action_steps str]\n",
      "               [--policy.max_state_dim str] [--policy.max_action_dim str]\n",
      "               [--policy.resize_imgs_with_padding str]\n",
      "               [--policy.interpolate_like_pi str] [--policy.empty_cameras str]\n",
      "               [--policy.adapt_to_pi_aloha str]\n",
      "               [--policy.use_delta_joint_actions_aloha str]\n",
      "               [--policy.tokenizer_max_length str] [--policy.proj_width str]\n",
      "               [--policy.max_decoding_steps str]\n",
      "               [--policy.fast_skip_tokens str]\n",
      "               [--policy.max_input_seq_len str] [--policy.use_cache str]\n",
      "               [--policy.freeze_vision_encoder str]\n",
      "               [--policy.freeze_lm_head str] [--policy.optimizer_lr str]\n",
      "               [--policy.optimizer_betas str] [--policy.optimizer_eps str]\n",
      "               [--policy.optimizer_weight_decay str]\n",
      "               [--policy.scheduler_warmup_steps str]\n",
      "               [--policy.scheduler_decay_steps str]\n",
      "               [--policy.scheduler_decay_lr str]\n",
      "               [--policy.checkpoint_path str] [--policy.padding_side str]\n",
      "               [--policy.precision str] [--policy.grad_clip_norm str]\n",
      "               [--policy.relaxed_action_decoding str] [--output_dir str]\n",
      "               [--job_name str] [--seed str]\n",
      "eval.py: error: unrecognized arguments: --vis.rerun=true\n"
     ]
    }
   ],
   "source": [
    "! pixi run python -m lerobot.scripts.eval \\\n",
    "    --policy.path=outputs/train/lerobot_pusht/checkpoints/003000/pretrained_model \\\n",
    "    --env.type=pusht \\\n",
    "    --eval.batch_size=10 \\\n",
    "    --eval.n_episodes=10 \\\n",
    "    --policy.use_amp=false \\\n",
    "    --policy.device=cuda \\\n",
    "    --vis.rerun=true"
   ]
  },
  {
   "cell_type": "code",
   "execution_count": 13,
   "metadata": {},
   "outputs": [],
   "source": []
  },
  {
   "cell_type": "code",
   "execution_count": null,
   "metadata": {},
   "outputs": [],
   "source": []
  }
 ],
 "metadata": {
  "accelerator": "GPU",
  "colab": {
   "gpuType": "T4",
   "provenance": []
  },
  "kernelspec": {
   "display_name": "Python 3 (ipykernel)",
   "language": "python",
   "name": "python3"
  },
  "language_info": {
   "codemirror_mode": {
    "name": "ipython",
    "version": 3
   },
   "file_extension": ".py",
   "mimetype": "text/x-python",
   "name": "python",
   "nbconvert_exporter": "python",
   "pygments_lexer": "ipython3",
   "version": "3.10.17"
  }
 },
 "nbformat": 4,
 "nbformat_minor": 4
}
